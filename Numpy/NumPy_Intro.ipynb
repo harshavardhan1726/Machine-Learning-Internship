{
  "nbformat": 4,
  "nbformat_minor": 0,
  "metadata": {
    "colab": {
      "provenance": []
    },
    "kernelspec": {
      "name": "python3",
      "display_name": "Python 3"
    },
    "language_info": {
      "name": "python"
    }
  },
  "cells": [
    {
      "cell_type": "markdown",
      "source": [
        "# **NumPy Documentation**"
      ],
      "metadata": {
        "id": "vxRwPsFDuinA"
      }
    },
    {
      "cell_type": "markdown",
      "source": [
        "## **1. Introduction to NumPy:**\n",
        "\n",
        "NumPy (Numerical Python) is a powerful library for numerical computations in Python. It provides support for multi-dimensional arrays and matrices, along with a collection of mathematical functions to operate on these arrays.\n",
        "\n",
        "Key Features:\n",
        "\n",
        "    - Multi-dimensional array support (`ndarray`)\n",
        "    - Fast mathematical operations\n",
        "    - Broadcasting for vectorized   operations\n",
        "    - Integration with C/C++ and Fortran for high-performance computations"
      ],
      "metadata": {
        "id": "0-aX5-EZuqUg"
      }
    },
    {
      "cell_type": "markdown",
      "source": [
        "## **2. Installation:**\n",
        "\n",
        "To install NumPy, use the following command:"
      ],
      "metadata": {
        "id": "hfdpja4guxMX"
      }
    },
    {
      "cell_type": "code",
      "source": [
        "pip install numpy"
      ],
      "metadata": {
        "colab": {
          "base_uri": "https://localhost:8080/"
        },
        "id": "rtNx8xS2ulHn",
        "outputId": "0850b259-9ef6-4aed-f2f4-d49d183f3012"
      },
      "execution_count": 1,
      "outputs": [
        {
          "output_type": "stream",
          "name": "stdout",
          "text": [
            "Requirement already satisfied: numpy in /usr/local/lib/python3.10/dist-packages (1.26.4)\n"
          ]
        }
      ]
    },
    {
      "cell_type": "markdown",
      "source": [
        "The `np` alias is a standard convention in the Python community."
      ],
      "metadata": {
        "id": "7UwNfBmRvB_H"
      }
    },
    {
      "cell_type": "markdown",
      "source": [
        "## **3. Importing NumPy (`ndarray`):**\n",
        "\n",
        "#### **Creating Arrays:**\n",
        "\n",
        "You can create NumPy arrays using `np.array().`\n",
        "\n",
        "Example:"
      ],
      "metadata": {
        "id": "foZlliQLu4YS"
      }
    },
    {
      "cell_type": "code",
      "source": [
        "import numpy as np\n",
        "\n",
        "# 1D array\n",
        "arr1 = np.array([1, 2, 3])\n",
        "print(arr1)  # Output: [1 2 3]\n",
        "\n",
        "# 2D array\n",
        "arr2 = np.array([[1, 2, 3], [4, 5, 6]])\n",
        "print(arr2)"
      ],
      "metadata": {
        "colab": {
          "base_uri": "https://localhost:8080/"
        },
        "id": "4xAweNahurWP",
        "outputId": "04861c4d-7cbe-4c9a-f6ed-2d4eb740945a"
      },
      "execution_count": 3,
      "outputs": [
        {
          "output_type": "stream",
          "name": "stdout",
          "text": [
            "[1 2 3]\n",
            "[[1 2 3]\n",
            " [4 5 6]]\n"
          ]
        }
      ]
    },
    {
      "cell_type": "markdown",
      "source": [
        "#### **Array Attributes:**\n",
        "\n",
        "Common attributes of `ndarray`:\n",
        "\n",
        "    shape: Returns the dimensions of the array\n",
        "    ndim: Returns the number of dimensions\n",
        "    dtype: Data type of the array elements\n",
        "    size: Number of elements in the array\n",
        "\n",
        "Example:"
      ],
      "metadata": {
        "id": "aGPerT-MwYXs"
      }
    },
    {
      "cell_type": "code",
      "source": [
        "arr = np.array([[1, 2, 3], [4, 5, 6]])\n",
        "print(\"Shape:\", arr.shape)  # Output: (2, 3)\n",
        "print(\"Number of dimensions:\", arr.ndim)  # Output: 2\n",
        "print(\"Data type:\", arr.dtype)  # Output: int64 (or int32 on some systems)\n",
        "print(\"Size:\", arr.size)  # Output: 6"
      ],
      "metadata": {
        "colab": {
          "base_uri": "https://localhost:8080/"
        },
        "id": "TKPbm6Lr8xB4",
        "outputId": "3b835b01-c75e-4968-d04b-8cf9f88fda2b"
      },
      "execution_count": 4,
      "outputs": [
        {
          "output_type": "stream",
          "name": "stdout",
          "text": [
            "Shape: (2, 3)\n",
            "Number of dimensions: 2\n",
            "Data type: int64\n",
            "Size: 6\n"
          ]
        }
      ]
    },
    {
      "cell_type": "markdown",
      "source": [
        "## **4. Array Initialization Methods:**\n",
        "\n",
        "NumPy provides several functions to create arrays with predefined values.\n",
        "#### **4.1. `np.zeros()`:**\n",
        "\n",
        "Creates an array of zeros."
      ],
      "metadata": {
        "id": "8F3P5lqlvJl9"
      }
    },
    {
      "cell_type": "code",
      "source": [
        "zeros_array = np.zeros((2, 3))\n",
        "print(zeros_array)"
      ],
      "metadata": {
        "colab": {
          "base_uri": "https://localhost:8080/"
        },
        "id": "1MamqRBYvAlI",
        "outputId": "7f8b49fa-df3d-4610-9594-e4aff27f898e"
      },
      "execution_count": 5,
      "outputs": [
        {
          "output_type": "stream",
          "name": "stdout",
          "text": [
            "[[0. 0. 0.]\n",
            " [0. 0. 0.]]\n"
          ]
        }
      ]
    },
    {
      "cell_type": "markdown",
      "source": [
        "#### **4.2. `np.ones()`:**\n",
        "\n",
        "Creates an array of ones."
      ],
      "metadata": {
        "id": "JtlJI-ER9EQu"
      }
    },
    {
      "cell_type": "code",
      "source": [
        "ones_array = np.ones((3, 3))\n",
        "print(ones_array)"
      ],
      "metadata": {
        "colab": {
          "base_uri": "https://localhost:8080/"
        },
        "id": "JcQuWA5i9CGB",
        "outputId": "a2cc74bd-7305-4d9b-beee-3b52be07dc43"
      },
      "execution_count": 6,
      "outputs": [
        {
          "output_type": "stream",
          "name": "stdout",
          "text": [
            "[[1. 1. 1.]\n",
            " [1. 1. 1.]\n",
            " [1. 1. 1.]]\n"
          ]
        }
      ]
    },
    {
      "cell_type": "markdown",
      "source": [
        "#### **4.3. `np.eye()`:**\n",
        "\n",
        "Creates an identity matrix."
      ],
      "metadata": {
        "id": "-_37JOlt9cTo"
      }
    },
    {
      "cell_type": "code",
      "source": [
        "identity_matrix = np.eye(4)\n",
        "print(identity_matrix)"
      ],
      "metadata": {
        "colab": {
          "base_uri": "https://localhost:8080/"
        },
        "id": "TsIvnqMa9L1n",
        "outputId": "3ea1541c-c399-4be6-97c3-8ff031000094"
      },
      "execution_count": 7,
      "outputs": [
        {
          "output_type": "stream",
          "name": "stdout",
          "text": [
            "[[1. 0. 0. 0.]\n",
            " [0. 1. 0. 0.]\n",
            " [0. 0. 1. 0.]\n",
            " [0. 0. 0. 1.]]\n"
          ]
        }
      ]
    },
    {
      "cell_type": "markdown",
      "source": [
        "#### **4.4. `np.arange()`:**\n",
        "\n",
        "Creates an array with a range of values."
      ],
      "metadata": {
        "id": "Y8Ze3Mgh9mMj"
      }
    },
    {
      "cell_type": "code",
      "source": [
        "range_array = np.arange(0, 10, 2)  # Start at 0, end at 10, step by 2\n",
        "print(range_array)  # Output: [0 2 4 6 8]"
      ],
      "metadata": {
        "colab": {
          "base_uri": "https://localhost:8080/"
        },
        "id": "TYSohw579iiA",
        "outputId": "3aec15fe-0448-4535-d1ee-f34b53230b98"
      },
      "execution_count": 8,
      "outputs": [
        {
          "output_type": "stream",
          "name": "stdout",
          "text": [
            "[0 2 4 6 8]\n"
          ]
        }
      ]
    },
    {
      "cell_type": "markdown",
      "source": [
        "## **5. Array Indexing and Slicing:**\n",
        "#### **Indexing:**\n",
        "\n",
        "Access elements in an array using square brackets `[]`."
      ],
      "metadata": {
        "id": "Uzo-3Sb592Qp"
      }
    },
    {
      "cell_type": "code",
      "source": [
        "arr = np.array([10, 20, 30, 40])\n",
        "print(arr[1])  # Output: 20"
      ],
      "metadata": {
        "colab": {
          "base_uri": "https://localhost:8080/"
        },
        "id": "d2ZmqIfq9tXC",
        "outputId": "158cae74-51f7-44a3-cccd-91245041bf00"
      },
      "execution_count": 9,
      "outputs": [
        {
          "output_type": "stream",
          "name": "stdout",
          "text": [
            "20\n"
          ]
        }
      ]
    },
    {
      "cell_type": "markdown",
      "source": [
        "#### **Slicing:**\n",
        "\n",
        "Extract a portion of the array."
      ],
      "metadata": {
        "id": "6SxX7b_V-Cov"
      }
    },
    {
      "cell_type": "code",
      "source": [
        "arr = np.array([10, 20, 30, 40, 50])\n",
        "print(arr[1:4])  # Output: [20 30 40]"
      ],
      "metadata": {
        "colab": {
          "base_uri": "https://localhost:8080/"
        },
        "id": "1XeBLyQC-ArR",
        "outputId": "277e3a01-33ee-4584-dc4e-b86750fcf354"
      },
      "execution_count": 10,
      "outputs": [
        {
          "output_type": "stream",
          "name": "stdout",
          "text": [
            "[20 30 40]\n"
          ]
        }
      ]
    },
    {
      "cell_type": "markdown",
      "source": [
        "#### **Indexing in Multi-dimensional Arrays:**"
      ],
      "metadata": {
        "id": "jnhxEg16-K-W"
      }
    },
    {
      "cell_type": "code",
      "source": [
        "arr = np.array([[1, 2, 3], [4, 5, 6], [7, 8, 9]])\n",
        "print(arr[1, 2])  # Output: 6"
      ],
      "metadata": {
        "colab": {
          "base_uri": "https://localhost:8080/"
        },
        "id": "Fu3M2c2u-H13",
        "outputId": "e0ff6949-6bb1-42ba-ef9d-992214f3d44b"
      },
      "execution_count": 11,
      "outputs": [
        {
          "output_type": "stream",
          "name": "stdout",
          "text": [
            "6\n"
          ]
        }
      ]
    },
    {
      "cell_type": "markdown",
      "source": [
        "## **6. Array Operations:**\n",
        "#### **Element-wise Operations:**"
      ],
      "metadata": {
        "id": "TbrN5g2s-Rt-"
      }
    },
    {
      "cell_type": "code",
      "source": [
        "arr1 = np.array([1, 2, 3])\n",
        "arr2 = np.array([4, 5, 6])\n",
        "\n",
        "# Addition\n",
        "print(arr1 + arr2)  # Output: [5 7 9]\n",
        "\n",
        "# Multiplication\n",
        "print(arr1 * arr2)  # Output: [ 4 10 18]"
      ],
      "metadata": {
        "colab": {
          "base_uri": "https://localhost:8080/"
        },
        "id": "HsD2iyS0-PSp",
        "outputId": "cd92e06c-761b-4272-9fe2-f01a4cbcae4b"
      },
      "execution_count": 12,
      "outputs": [
        {
          "output_type": "stream",
          "name": "stdout",
          "text": [
            "[5 7 9]\n",
            "[ 4 10 18]\n"
          ]
        }
      ]
    },
    {
      "cell_type": "markdown",
      "source": [
        "#### **Broadcasting:**\n",
        "\n",
        "NumPy allows operations on arrays of different shapes through broadcasting."
      ],
      "metadata": {
        "id": "V_t5Y1xv-izU"
      }
    },
    {
      "cell_type": "code",
      "source": [
        "arr = np.array([1, 2, 3])\n",
        "print(arr + 5)  # Output: [6 7 8]"
      ],
      "metadata": {
        "colab": {
          "base_uri": "https://localhost:8080/"
        },
        "id": "VDl8rngR-Z8l",
        "outputId": "5b37422f-ee5c-46f6-c55f-bb76367050f2"
      },
      "execution_count": 13,
      "outputs": [
        {
          "output_type": "stream",
          "name": "stdout",
          "text": [
            "[6 7 8]\n"
          ]
        }
      ]
    },
    {
      "cell_type": "markdown",
      "source": [
        "## **7. Mathematical Functions:**\n",
        "#### **7.1. `np.sum()`:**\n",
        "\n",
        "Computes the sum of elements."
      ],
      "metadata": {
        "id": "8tleqYaB-qox"
      }
    },
    {
      "cell_type": "code",
      "source": [
        "arr = np.array([1, 2, 3, 4])\n",
        "print(np.sum(arr))  # Output: 10"
      ],
      "metadata": {
        "colab": {
          "base_uri": "https://localhost:8080/"
        },
        "id": "pk5_I5T4-oEs",
        "outputId": "f612bec3-fdc4-4160-dfba-7a94cc310c30"
      },
      "execution_count": 14,
      "outputs": [
        {
          "output_type": "stream",
          "name": "stdout",
          "text": [
            "10\n"
          ]
        }
      ]
    },
    {
      "cell_type": "markdown",
      "source": [
        "#### **7.2. `np.mean()`:\n",
        "\n",
        "Computes the mean (average) of elements."
      ],
      "metadata": {
        "id": "VBkn3zha-6b2"
      }
    },
    {
      "cell_type": "code",
      "source": [
        "arr = np.array([1, 2, 3, 4])\n",
        "print(np.mean(arr))  # Output: 2.5"
      ],
      "metadata": {
        "colab": {
          "base_uri": "https://localhost:8080/"
        },
        "id": "UhG_blwZ-zqq",
        "outputId": "30515cb4-4878-4f77-be41-41609515ae86"
      },
      "execution_count": 15,
      "outputs": [
        {
          "output_type": "stream",
          "name": "stdout",
          "text": [
            "2.5\n"
          ]
        }
      ]
    },
    {
      "cell_type": "markdown",
      "source": [
        "#### **7.3. `np.max()` and `np.min()`:**\n",
        "\n",
        "Finds the maximum and minimum values."
      ],
      "metadata": {
        "id": "TCVmnVge_YCs"
      }
    },
    {
      "cell_type": "code",
      "source": [
        "arr = np.array([1, 2, 3, 4])\n",
        "print(np.max(arr))  # Output: 4\n",
        "print(np.min(arr))  # Output: 1"
      ],
      "metadata": {
        "colab": {
          "base_uri": "https://localhost:8080/"
        },
        "id": "ArEqPjnk_VYE",
        "outputId": "e3b163e6-dd73-4840-8efd-fc42ebc3cfab"
      },
      "execution_count": 16,
      "outputs": [
        {
          "output_type": "stream",
          "name": "stdout",
          "text": [
            "4\n",
            "1\n"
          ]
        }
      ]
    },
    {
      "cell_type": "markdown",
      "source": [
        "## **8. Reshaping Arrays:**\n",
        "`np.reshape()`\n",
        "\n",
        "Change the shape of an array."
      ],
      "metadata": {
        "id": "hI-J2sf8_l71"
      }
    },
    {
      "cell_type": "code",
      "source": [
        "arr = np.array([1, 2, 3, 4, 5, 6])\n",
        "reshaped_arr = arr.reshape(2, 3)\n",
        "print(reshaped_arr)"
      ],
      "metadata": {
        "colab": {
          "base_uri": "https://localhost:8080/"
        },
        "id": "JgIRZwdK_f_J",
        "outputId": "90f46f32-349b-40ee-b2b8-b49629895ec0"
      },
      "execution_count": 17,
      "outputs": [
        {
          "output_type": "stream",
          "name": "stdout",
          "text": [
            "[[1 2 3]\n",
            " [4 5 6]]\n"
          ]
        }
      ]
    },
    {
      "cell_type": "markdown",
      "source": [
        "## **9. Random Number Generation:**\n",
        "\n",
        "NumPy provides several functions to generate random numbers.\n",
        "\n",
        "`np.random.rand()`:\n",
        "\n",
        "Generates random values between 0 and 1."
      ],
      "metadata": {
        "id": "iu3NOww5_0d9"
      }
    },
    {
      "cell_type": "code",
      "source": [
        "random_array = np.random.rand(3, 3)\n",
        "print(random_array)"
      ],
      "metadata": {
        "colab": {
          "base_uri": "https://localhost:8080/"
        },
        "id": "dJt-i81N_xcY",
        "outputId": "cd971e02-86e1-4fa2-c5a4-0ee3af69ca2e"
      },
      "execution_count": 18,
      "outputs": [
        {
          "output_type": "stream",
          "name": "stdout",
          "text": [
            "[[0.15851058 0.77840476 0.34719142]\n",
            " [0.51134158 0.36217371 0.95096118]\n",
            " [0.87167579 0.0574698  0.44772025]]\n"
          ]
        }
      ]
    },
    {
      "cell_type": "markdown",
      "source": [
        "`np.random.randint()`:\n",
        "\n",
        "Generates random integers within a specified range."
      ],
      "metadata": {
        "id": "ONIKLPIpAKK3"
      }
    },
    {
      "cell_type": "code",
      "source": [
        "random_int_array = np.random.randint(1, 10, (2, 3))\n",
        "print(random_int_array)"
      ],
      "metadata": {
        "colab": {
          "base_uri": "https://localhost:8080/"
        },
        "id": "QaAn-2pr_9_I",
        "outputId": "47ca9f51-aa02-4ebd-bf50-7d724b50688c"
      },
      "execution_count": 19,
      "outputs": [
        {
          "output_type": "stream",
          "name": "stdout",
          "text": [
            "[[7 6 4]\n",
            " [7 8 6]]\n"
          ]
        }
      ]
    },
    {
      "cell_type": "markdown",
      "source": [
        "## **10. Linear Algebra with NumPy:**\n",
        "Matrix Multiplication (`np.dot()`)"
      ],
      "metadata": {
        "id": "y6Q4l_zWAaAY"
      }
    },
    {
      "cell_type": "code",
      "source": [
        "A = np.array([[1, 2], [3, 4]])\n",
        "B = np.array([[5, 6], [7, 8]])\n",
        "result = np.dot(A, B)\n",
        "print(result)"
      ],
      "metadata": {
        "colab": {
          "base_uri": "https://localhost:8080/"
        },
        "id": "MhXc0IfaAUWe",
        "outputId": "47c96b0f-7f56-4d5b-e3c3-e46ea1ea8f80"
      },
      "execution_count": 20,
      "outputs": [
        {
          "output_type": "stream",
          "name": "stdout",
          "text": [
            "[[19 22]\n",
            " [43 50]]\n"
          ]
        }
      ]
    },
    {
      "cell_type": "markdown",
      "source": [
        "## **11. Saving and Loading Data:**\n",
        "**Saving Arrays:**"
      ],
      "metadata": {
        "id": "s7UqZ2GiAlwB"
      }
    },
    {
      "cell_type": "code",
      "source": [
        "arr = np.array([1, 2, 3])\n",
        "np.save('array.npy', arr)"
      ],
      "metadata": {
        "id": "surxQUELAhgc"
      },
      "execution_count": 21,
      "outputs": []
    },
    {
      "cell_type": "markdown",
      "source": [
        "**Loading Arrays:**"
      ],
      "metadata": {
        "id": "8_tgXXp9AuIa"
      }
    },
    {
      "cell_type": "code",
      "source": [
        "loaded_arr = np.load('array.npy')\n",
        "print(loaded_arr)"
      ],
      "metadata": {
        "colab": {
          "base_uri": "https://localhost:8080/"
        },
        "id": "osIH7je1ArvT",
        "outputId": "591007db-7e57-4506-f734-9d4e61a155aa"
      },
      "execution_count": 22,
      "outputs": [
        {
          "output_type": "stream",
          "name": "stdout",
          "text": [
            "[1 2 3]\n"
          ]
        }
      ]
    }
  ]
}